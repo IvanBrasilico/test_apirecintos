{
 "cells": [
  {
   "cell_type": "code",
   "execution_count": 1,
   "metadata": {},
   "outputs": [],
   "source": [
    "import json\n",
    "import warnings\n",
    "warnings.simplefilter('ignore')\n",
    "from seleniumwire import webdriver\n"
   ]
  },
  {
   "cell_type": "code",
   "execution_count": 2,
   "metadata": {},
   "outputs": [],
   "source": [
    "GECKO_PATH = \"C:\\\\Users\\\\25052288840\\\\Downloads\\\\chromedriver.exe\"\n",
    "options = webdriver.ChromeOptions()\n",
    "options.add_argument('--ignore-certificate-errors')\n",
    "driver = webdriver.Chrome(GECKO_PATH, chrome_options=options)\n",
    "\n",
    "# curl 'https://hom.pucomex.serpro.gov.br/portal/api/autenticar' -X POST \n",
    "# -H 'Accept: */*' -H 'Referer: http://hom-pucomex-rcnt-priv.estaleiro.serpro/recintos-simulador/' \n",
    "# -H 'Origin: http://hom-pucomex-rcnt-priv.estaleiro.serpro' \n",
    "# -H 'Role-Type: DEPOSIT' \n",
    "# -H 'User-Agent: Mozilla/5.0 (Windows NT 10.0; WOW64) AppleWebKit/537.36 (KHTML, like Gecko) Chrome/72.0.3626.121 Safari/537.36' --compressed\n",
    "# curl 'https://hom-pucomex-rcnt-priv.estaleiro.serpro/recintos-ext/api/ext/pesagem-veiculos-cargas' \n",
    "# -H 'Accept: */*' \n",
    "# -H 'Referer: http://hom-pucomex-rcnt-priv.estaleiro.serpro/recintos-simulador/' \n",
    "# -H 'Origin: http://hom-pucomex-rcnt-priv.estaleiro.serpro' \n",
    "# -H 'X-CSRF-Token: bCTxkbHBSNPoq70R6Xl5Vj0rI8OX1o75mlIc0j8mMbWLwBBRXAcUVM5vazUjBszD3FfythjP+EM=' \n",
    "# -H 'User-Agent: Mozilla/5.0 (Windows NT 10.0; WOW64) AppleWebKit/537.36 (KHTML, like Gecko) Chrome/72.0.3626.121 Safari/537.36'\n",
    "# -H 'Authorization: eyJhbGciOiJSUzI1NiJ9.eyJleHRlbnNhbyI6IiIsInN1YiI6IjI1MDUyMjg4ODQwIiwidGlwbyI6IlBGIiwiaXAiOiIyMDAuMTk4LjIzNi4yNDMiLCJpc3MiOiJQUklWIiwiaWRjYyI6NDE2Nywibm9tZSI6IklWQU4gREEgU0lMVkEgQlJBU0lMSUNPIiwiaXBPcmlnZW0iOiIyMDAuMTk4LjIzNi4yNDMiLCJkZXNjcmljYW8iOiJJVkFOIERBIFNJTFZBIEJSQVNJTElDTyIsInBlcmZpcyI6Ikg0c0lBQUFBQUFBQUFEMlFPMjdETUF5R0w2UVRlR05KTmxVaDA0WklGMGFEREVIaXdVdGR4Tm1LSHFabjZjVXFLVklIUVFUMV9RX28tSFdfblRfMjgyVmI5dTZJYU5IM0k0RzVQSTZEQWxJWldTdzlPQXdLcnhOaGdMTEZRU0tqQS1HNW5KaTNFTHhpSG9PT19PSUYtOEpHNjlGTGtfVWdHVGdZUEZVQXFsa0ZVbUFaSl9IbTN6TXJnMEZoZ3o0bm9NbUNKeF81WHpZX1pDQ1dxOVBFY19IVlJ3Yy0xQWhBcUdsZ3hGYjdKbFN6YjBReGZrc1ZodWFyWk0yaE5hc09OU0pkWlV1c3FmTEpyZGVPT0gyZ04zZGQ5a3RIeS1lMnJfZmZuOXU2ZlpfLUFQNEF3X3QzQVFBQSIsImNyZWRlbmNpYWwiOjYsImNwZiI6IjI1MDUyMjg4ODQwIiwiaWF0IjoxNTgxNDI2MTEzLCJjb250cm9sZSI6NywiaGFzaCI6ImI2Y2U2MTUwMzEyM2Y3OGU4OWE2ZTY3MmYzMWRiNTY3In0.P05bR1DwaINzUqeuJ945jQcKLJwL-T-c00dXlwvj5-4xWmR3cv5dP90rDQ3uitQ9_u1lG7bXp34wY3DNh5xUBisJkT8f3VSbdiQuBVCBD40vRG7BXtDi4UCqCe1UFKxEDwrGWxN8EWlEB930t3OsYmEJ5KxieHAnZkbG3dZrzMEr8HYlEE0JZaXnUN9VIDN1Q6Ulh8AZls350UnEJ6YT4cUAkr3-QjapPfmWSecG0mPl2aUsUICj_LPQw-oIW2NmmjDdaHbWNXSxYSCCRQ_Q8Ks-BBQ1ctzqUq7xjToRKgWXF6FrO9kAW3hE3wvsH48RtBxquKums0vU53VcHs_h6Q' \n",
    "# -H 'Content-Type: application/json' \n",
    "# --data-binary $'{\\n  \"idEvento\": \"string\",\\n  \"dtHrOcorrencia\": \"2020-02-11T13:03:31.369Z\",\\n  \"dtHrRegistro\": \"2020-02-11T13:03:31.369Z\",\\n  \"cpfOperOcor\": \"02297768923\",\\n  \"cpfOperReg\": \"02297768923\",\\n  \"tipoOperacao\": \"I\",\\n  \"protocoloEventoRetifCanc\": \"string\",\\n  \"contingencia\": false,\\n  \"listaManifestos\": [\\n    {\\n      \"num\": \"string\",\\n      \"tipo\": \"DAT\",\\n      \"listaConhecimentos\": [\\n        {\\n          \"num\": \"string\",\\n          \"tipo\": \"CRT\"\\n        }\\n      ]\\n    }\\n  ],\\n  \"pesoBrutoManifesto\": 0,\\n  \"placa\": \"string\",\\n  \"tara\": 0,\\n  \"listaSemirreboque\": [\\n    {\\n      \"placa\": \"string\",\\n      \"tara\": 0\\n    }\\n  ],\\n  \"taraConjunto\": 0,\\n  \"numConteinerUld\": \"string\",\\n  \"tipoConteinerUld\": \"string\",\\n  \"taraConteinerUld\": 0,\\n  \"pesoBrutoBalanca\": 0,\\n  \"capturaAutoPeso\": true,\\n  \"dutos\": \"E\",\\n  \"volume\": 0,\\n  \"balanca\": \"protocolo georref 05.21\",\\n  \"listaCameras\": [\\n    \"protocolo georref 05.21\",\\n    \"protocolo georref 05.21\"\\n  ]\\n}' --compressed --insecure"
   ]
  },
  {
   "cell_type": "markdown",
   "metadata": {},
   "source": [
    "# Autenticar - deve receber 200"
   ]
  },
  {
   "cell_type": "code",
   "execution_count": 3,
   "metadata": {},
   "outputs": [],
   "source": [
    "driver.header_overrides = {\n",
    "    'Role-Type': 'DEPOSIT',\n",
    "    'Accept': '*/*',\n",
    "    'Origin': 'http://hom-pucomex-rcnt-priv.estaleiro.serpro',\n",
    "    'Referer': 'http://hom-pucomex-rcnt-priv.estaleiro.serpro/recintos-simulador/'\n",
    "}\n",
    "\n",
    "r = driver.get('https://hom.pucomex.serpro.gov.br/portal/api/autenticar')"
   ]
  },
  {
   "cell_type": "code",
   "execution_count": 4,
   "metadata": {},
   "outputs": [
    {
     "ename": "AttributeError",
     "evalue": "'NoneType' object has no attribute 'status_code'",
     "output_type": "error",
     "traceback": [
      "\u001b[1;31m---------------------------------------------------------------------------\u001b[0m",
      "\u001b[1;31mAttributeError\u001b[0m                            Traceback (most recent call last)",
      "\u001b[1;32m<ipython-input-4-59e1e9be5ad6>\u001b[0m in \u001b[0;36m<module>\u001b[1;34m\u001b[0m\n\u001b[1;32m----> 1\u001b[1;33m \u001b[0mprint\u001b[0m\u001b[1;33m(\u001b[0m\u001b[0mr\u001b[0m\u001b[1;33m.\u001b[0m\u001b[0mstatus_code\u001b[0m\u001b[1;33m)\u001b[0m\u001b[1;33m\u001b[0m\u001b[1;33m\u001b[0m\u001b[0m\n\u001b[0m\u001b[0;32m      2\u001b[0m \u001b[0mprint\u001b[0m\u001b[1;33m(\u001b[0m\u001b[0mr\u001b[0m\u001b[1;33m.\u001b[0m\u001b[0mtext\u001b[0m\u001b[1;33m)\u001b[0m\u001b[1;33m\u001b[0m\u001b[1;33m\u001b[0m\u001b[0m\n\u001b[0;32m      3\u001b[0m \u001b[1;32mfor\u001b[0m \u001b[0mk\u001b[0m\u001b[1;33m,\u001b[0m \u001b[0mv\u001b[0m \u001b[1;32min\u001b[0m \u001b[0mr\u001b[0m\u001b[1;33m.\u001b[0m\u001b[0mheaders\u001b[0m\u001b[1;33m.\u001b[0m\u001b[0mitems\u001b[0m\u001b[1;33m(\u001b[0m\u001b[1;33m)\u001b[0m\u001b[1;33m:\u001b[0m\u001b[1;33m\u001b[0m\u001b[1;33m\u001b[0m\u001b[0m\n\u001b[0;32m      4\u001b[0m     \u001b[0mprint\u001b[0m\u001b[1;33m(\u001b[0m\u001b[1;34m'%s: %s'\u001b[0m \u001b[1;33m%\u001b[0m \u001b[1;33m(\u001b[0m\u001b[0mk\u001b[0m\u001b[1;33m,\u001b[0m \u001b[0mv\u001b[0m\u001b[1;33m)\u001b[0m\u001b[1;33m)\u001b[0m\u001b[1;33m\u001b[0m\u001b[1;33m\u001b[0m\u001b[0m\n",
      "\u001b[1;31mAttributeError\u001b[0m: 'NoneType' object has no attribute 'status_code'"
     ]
    }
   ],
   "source": [
    "print(r.status_code)\n",
    "print(r.text)\n",
    "for k, v in r.headers.items():\n",
    "    print('%s: %s' % (k, v))"
   ]
  },
  {
   "cell_type": "code",
   "execution_count": 18,
   "metadata": {},
   "outputs": [],
   "source": [
    "xcsrftoken = r.headers['X-CSRF-Token']\n",
    "authentication = r.headers['Set-Token']"
   ]
  },
  {
   "cell_type": "markdown",
   "metadata": {},
   "source": [
    "# Carregar arquivo para dict"
   ]
  },
  {
   "cell_type": "code",
   "execution_count": 19,
   "metadata": {},
   "outputs": [],
   "source": [
    "with open('../json/pesagem-veiculos-cargas.json') as infile:\n",
    "    json_pesagem = json.load(infile)"
   ]
  },
  {
   "cell_type": "markdown",
   "metadata": {},
   "source": [
    "# Postar arquivo de Evento - deve receber 201"
   ]
  },
  {
   "cell_type": "code",
   "execution_count": 20,
   "metadata": {},
   "outputs": [
    {
     "name": "stdout",
     "output_type": "stream",
     "text": [
      "{\"message\":\"Ocorreu um erro inesperado. Por favor, tente novamente. Se o problema persistir, acione a Central Serpro de Atendimento anexando todo o conteúdo do response.\",\"code\":\"PUCX-ER0001\",\"tag\":\"[RCNT-YHGKXSX7P6]\",\"date\":\"2020-02-07T16:11:27\",\"severity\":\"ERROR\",\"info\":{\"mnemonico\":\"RCNT\",\"sistema\":\"Recintos de Comércio Exterior\",\"ambiente\":\"TES\",\"url\":\"/recintos-ext/api/ext/pesagem-veiculos-cargas\"}}\n"
     ]
    }
   ],
   "source": [
    "headers={'X-CSRF-Token': xcsrftoken,\n",
    "         'authorization': authentication,\n",
    "         'Cnpj-Representante': '92772821010712'}\n",
    "\n",
    "r = post('https://tes-pucomex-rcnt-priv.estaleiro.serpro/recintos-ext/api/ext/pesagem-veiculos-cargas',\n",
    "         headers=headers,\n",
    "         pkcs12_filename='C:\\\\Users\\\\25052288840\\\\Downloads\\\\132656_CERTIFICADO_TESTES_INTEGRADOS.p12',\n",
    "         pkcs12_password='123456',\n",
    "         verify=False,\n",
    "         json=json_pesagem)\n",
    "print(r.text)"
   ]
  },
  {
   "cell_type": "code",
   "execution_count": 21,
   "metadata": {},
   "outputs": [
    {
     "name": "stdout",
     "output_type": "stream",
     "text": [
      "503\n",
      "{\"message\":\"Ocorreu um erro inesperado. Por favor, tente novamente. Se o problema persistir, acione a Central Serpro de Atendimento anexando todo o conteúdo do response.\",\"code\":\"PUCX-ER0001\",\"tag\":\"[RCNT-YHGKXSX7P6]\",\"date\":\"2020-02-07T16:11:27\",\"severity\":\"ERROR\",\"info\":{\"mnemonico\":\"RCNT\",\"sistema\":\"Recintos de Comércio Exterior\",\"ambiente\":\"TES\",\"url\":\"/recintos-ext/api/ext/pesagem-veiculos-cargas\"}}\n",
      "content-type: application/json;charset=UTF-8\n",
      "content-length: 409\n",
      "date: Fri, 07 Feb 2020 19:11:27 GMT\n",
      "strict-transport-security: max-age=15768000\n"
     ]
    }
   ],
   "source": [
    "print(r.status_code)\n",
    "print(r.text)\n",
    "for k, v in r.headers.items():\n",
    "    print('%s: %s' % (k, v))"
   ]
  },
  {
   "cell_type": "markdown",
   "metadata": {},
   "source": [
    "# Postar arquivo contendo campo não previsto - Erro no. ???"
   ]
  },
  {
   "cell_type": "code",
   "execution_count": 24,
   "metadata": {},
   "outputs": [
    {
     "name": "stdout",
     "output_type": "stream",
     "text": [
      "503\n",
      "{\"message\":\"Ocorreu um erro inesperado. Por favor, tente novamente. Se o problema persistir, acione a Central Serpro de Atendimento anexando todo o conteúdo do response.\",\"code\":\"PUCX-ER0001\",\"tag\":\"[RCNT-OSVBGLX7P6]\",\"date\":\"2020-02-07T16:15:11\",\"severity\":\"ERROR\",\"info\":{\"mnemonico\":\"RCNT\",\"sistema\":\"Recintos de Comércio Exterior\",\"ambiente\":\"TES\",\"url\":\"/recintos-ext/api/ext/pesagem-veiculos-cargas\"}}\n"
     ]
    }
   ],
   "source": [
    "json_pesagem2 = json_pesagem.copy()\n",
    "json_pesagem2['nonecxiste'] = 'BUUUU!'\n",
    "r = post('https://tes-pucomex-rcnt-priv.estaleiro.serpro/recintos-ext/api/ext/pesagem-veiculos-cargas',\n",
    "         headers=headers,\n",
    "         pkcs12_filename='C:\\\\Users\\\\25052288840\\\\Downloads\\\\132656_CERTIFICADO_TESTES_INTEGRADOS.p12',\n",
    "         pkcs12_password='123456',\n",
    "         verify=False,\n",
    "         json=json_pesagem2)\n",
    "print(r.status_code)\n",
    "print(r.text)"
   ]
  },
  {
   "cell_type": "markdown",
   "metadata": {},
   "source": [
    "# Postar arquivo faltando campo obrigatório - Erro no. ???"
   ]
  },
  {
   "cell_type": "code",
   "execution_count": 25,
   "metadata": {},
   "outputs": [
    {
     "name": "stdout",
     "output_type": "stream",
     "text": [
      "503\n",
      "{\"message\":\"Ocorreu um erro inesperado. Por favor, tente novamente. Se o problema persistir, acione a Central Serpro de Atendimento anexando todo o conteúdo do response.\",\"code\":\"PUCX-ER0001\",\"tag\":\"[RCNT-KESZUAX7P6]\",\"date\":\"2020-02-07T16:17:17\",\"severity\":\"ERROR\",\"info\":{\"mnemonico\":\"RCNT\",\"sistema\":\"Recintos de Comércio Exterior\",\"ambiente\":\"TES\",\"url\":\"/recintos-ext/api/ext/pesagem-veiculos-cargas\"}}\n"
     ]
    }
   ],
   "source": [
    "json_pesagem2 = json_pesagem.copy()\n",
    "json_pesagem2.pop('idEvento')\n",
    "r = post('https://tes-pucomex-rcnt-priv.estaleiro.serpro/recintos-ext/api/ext/pesagem-veiculos-cargas',\n",
    "         headers=headers,\n",
    "         pkcs12_filename='C:\\\\Users\\\\25052288840\\\\Downloads\\\\132656_CERTIFICADO_TESTES_INTEGRADOS.p12',\n",
    "         pkcs12_password='123456',\n",
    "         verify=False,\n",
    "         json=json_pesagem2)\n",
    "print(r.status_code)\n",
    "print(r.text)"
   ]
  },
  {
   "cell_type": "markdown",
   "metadata": {},
   "source": [
    "# Postar arquivo contendo campo com valor inválido - Erro no. ???"
   ]
  },
  {
   "cell_type": "code",
   "execution_count": null,
   "metadata": {},
   "outputs": [],
   "source": [
    "json_pesagem2 = json_pesagem.copy()\n",
    "json_pesagem2['idEvento'] = 'string'\n",
    "r = post('https://tes-pucomex-rcnt-priv.estaleiro.serpro/recintos-ext/api/ext/pesagem-veiculos-cargas',\n",
    "         headers=headers,\n",
    "         pkcs12_filename='C:\\\\Users\\\\25052288840\\\\Downloads\\\\132656_CERTIFICADO_TESTES_INTEGRADOS.p12',\n",
    "         pkcs12_password='123456',\n",
    "         verify=False,\n",
    "         json=json_pesagem2)\n",
    "print(r.status_code)\n",
    "print(r.text)"
   ]
  },
  {
   "cell_type": "markdown",
   "metadata": {},
   "source": [
    "# Postar arquivo contendo campo obrigatório nulo - Erro no. ???"
   ]
  },
  {
   "cell_type": "code",
   "execution_count": null,
   "metadata": {},
   "outputs": [],
   "source": [
    "json_pesagem2 = json_pesagem.copy()\n",
    "json_pesagem2['idEvento'] = None\n",
    "r = post('https://tes-pucomex-rcnt-priv.estaleiro.serpro/recintos-ext/api/ext/pesagem-veiculos-cargas',\n",
    "         headers=headers,\n",
    "         pkcs12_filename='C:\\\\Users\\\\25052288840\\\\Downloads\\\\132656_CERTIFICADO_TESTES_INTEGRADOS.p12',\n",
    "         pkcs12_password='123456',\n",
    "         verify=False,\n",
    "         json=json_pesagem2)\n",
    "print(r.status_code)\n",
    "print(r.text)"
   ]
  },
  {
   "cell_type": "markdown",
   "metadata": {},
   "source": [
    "# Consulta"
   ]
  },
  {
   "cell_type": "code",
   "execution_count": 17,
   "metadata": {},
   "outputs": [],
   "source": [
    "from requests_pkcs12 import get\n",
    "\n",
    "headers={'Authorization': '3338B22239B8B7934612C24B0DD8854C',\n",
    "         'Content-Type': 'application/json',\n",
    "         'Encryption-Key': '0123456789abcdef',\n",
    "          'Referer': 'https://tes-pucomex-rcnt-priv.estaleiro.serpro/recintos-simulador/',\n",
    "         'System-Code': '11655'}\n",
    "\n",
    "query = {'tipoEvento': 1,\n",
    "         'tipoOperacao': 'I',\n",
    "         'codigoRecinto': '1',\n",
    "         'dtHrTransmissaoInicio': '2020-01-10T13:36:51.809Z',\n",
    "         'dtHrTransmissaoFim': '2020-01-22T13:36:51.809Z'\n",
    "        }\n",
    "#         'cnpjTransmissor': '',\n",
    "#         'dtHrOcorrenciaInicio': '',\n",
    "#         'dtHrOcorrenciaFim': '',\n",
    "#         'protocoloRecepcao': ''\n",
    "#        }\n",
    "r = get('https://tes-pucomex-rcnt-rfb.estaleiro.serpro/recintos-consultas-intra/api/int/eventos-aduaneiros',\n",
    "        params=query,\n",
    "        headers=headers,\n",
    "        pkcs12_filename='C:\\\\Users\\\\25052288840\\\\Downloads\\\\132656_CERTIFICADO_TESTES_INTEGRADOS.p12',\n",
    "        pkcs12_password='123456',\n",
    "        verify=False)"
   ]
  },
  {
   "cell_type": "code",
   "execution_count": 18,
   "metadata": {},
   "outputs": [
    {
     "name": "stdout",
     "output_type": "stream",
     "text": [
      "201\n",
      "{\"dtHrSolicitacao\":\"2020-01-29T09:20:10.397Z\",\"protocoloSolicitacao\":\"1b3aac67-afec-411b-9f1b-e6ee5115ad2a\"}\n",
      "access-control-allow-origin: *\n",
      "access-control-allow-headers: Origin, X-Requested-With, Content-Type, Accept, X-CSRF-Token, Authorization\n",
      "content-type: application/json\n",
      "content-length: 108\n",
      "access-control-allow-methods: GET, POST, PUT, DELETE, OPTIONS\n",
      "access-control-max-age: -1\n",
      "date: Wed, 29 Jan 2020 12:20:10 GMT\n",
      "strict-transport-security: max-age=15768000\n"
     ]
    }
   ],
   "source": [
    "print(r.status_code)\n",
    "print(r.text)\n",
    "for k, v in r.headers.items():\n",
    "    print('%s: %s' % (k, v))"
   ]
  },
  {
   "cell_type": "code",
   "execution_count": 19,
   "metadata": {},
   "outputs": [],
   "source": [
    "protocolo = r.json()['protocoloSolicitacao']\n",
    "url = 'https://tes-pucomex-rcnt-rfb.estaleiro.serpro/recintos-consultas-intra/api/int/eventos-aduaneiros/resultado/%s' % protocolo\n",
    "r = get(url,\n",
    "        headers=headers,\n",
    "        pkcs12_filename='C:\\\\Users\\\\25052288840\\\\Downloads\\\\132656_CERTIFICADO_TESTES_INTEGRADOS.p12',\n",
    "        pkcs12_password='123456',\n",
    "        verify=False)\n"
   ]
  },
  {
   "cell_type": "code",
   "execution_count": 20,
   "metadata": {},
   "outputs": [
    {
     "name": "stdout",
     "output_type": "stream",
     "text": [
      "200\n",
      "{\"protocoloConsulta\":\"1b3aac67-afec-411b-9f1b-e6ee5115ad2a\",\"resumoConsulta\":{\"qtdPartes\":2,\"qtdEventos\":90500},\"partes\":[{\"parte\":1,\"qtdEventos\":1000,\"geradaComSucesso\":true,\"urlDownload\":\"https://estaleiro.serpro.gov.br/recintos/asd23cw35sxw3453f4v63d354.zip\"},{\"parte\":2,\"geradaComSucesso\":false,\"obsErro\":\"falha ao gerar arquivo\"}]}\n",
      "access-control-allow-origin: *\n",
      "access-control-allow-headers: Origin, X-Requested-With, Content-Type, Accept, X-CSRF-Token, Authorization\n",
      "content-type: application/json\n",
      "content-length: 336\n",
      "access-control-allow-methods: GET, POST, PUT, DELETE, OPTIONS\n",
      "access-control-max-age: -1\n",
      "date: Wed, 29 Jan 2020 12:20:12 GMT\n",
      "strict-transport-security: max-age=15768000\n"
     ]
    }
   ],
   "source": [
    "print(r.status_code)\n",
    "print(r.text)\n",
    "for k, v in r.headers.items():\n",
    "    print('%s: %s' % (k, v))"
   ]
  },
  {
   "cell_type": "code",
   "execution_count": 21,
   "metadata": {},
   "outputs": [
    {
     "name": "stdout",
     "output_type": "stream",
     "text": [
      "https://estaleiro.serpro.gov.br/recintos/asd23cw35sxw3453f4v63d354.zip\n"
     ]
    }
   ],
   "source": [
    "urlDownload = r.json()['partes'][0]['urlDownload']\n",
    "print(urlDownload)\n"
   ]
  },
  {
   "cell_type": "code",
   "execution_count": 22,
   "metadata": {},
   "outputs": [
    {
     "data": {
      "text/plain": [
       "'<html>\\r\\n<head><title>302 Found</title></head>\\r\\n<body bgcolor=\"white\">\\r\\n<center><h1>302 Found</h1></center>\\r\\n<hr><center>nginx/1.12.2</center>\\r\\n</body>\\r\\n</html>\\r\\n'"
      ]
     },
     "execution_count": 22,
     "metadata": {},
     "output_type": "execute_result"
    }
   ],
   "source": [
    "r = get(urlDownload,\n",
    "        headers=headers,\n",
    "        pkcs12_filename='C:\\\\Users\\\\25052288840\\\\Downloads\\\\132656_CERTIFICADO_TESTES_INTEGRADOS.p12',\n",
    "        pkcs12_password='123456',\n",
    "        verify=False,\n",
    "        allow_redirects=False)\n",
    "r.text"
   ]
  },
  {
   "cell_type": "code",
   "execution_count": null,
   "metadata": {},
   "outputs": [],
   "source": []
  }
 ],
 "metadata": {
  "kernelspec": {
   "display_name": "virasana",
   "language": "python",
   "name": "virasana"
  },
  "language_info": {
   "codemirror_mode": {
    "name": "ipython",
    "version": 3
   },
   "file_extension": ".py",
   "mimetype": "text/x-python",
   "name": "python",
   "nbconvert_exporter": "python",
   "pygments_lexer": "ipython3",
   "version": "3.7.4"
  }
 },
 "nbformat": 4,
 "nbformat_minor": 4
}
