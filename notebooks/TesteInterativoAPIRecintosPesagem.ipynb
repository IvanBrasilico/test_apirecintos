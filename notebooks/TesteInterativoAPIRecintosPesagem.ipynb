{
 "cells": [
  {
   "cell_type": "code",
   "execution_count": 3,
   "metadata": {},
   "outputs": [],
   "source": [
    "import json\n",
    "import warnings\n",
    "warnings.simplefilter('ignore')\n",
    "from requests_pkcs12 import post\n",
    "\n"
   ]
  },
  {
   "cell_type": "markdown",
   "metadata": {},
   "source": [
    "# Autenticar - deve receber 200"
   ]
  },
  {
   "cell_type": "code",
   "execution_count": 16,
   "metadata": {},
   "outputs": [],
   "source": [
    "headers={'Role-Type': 'DEPOSIT'}\n",
    "r = post('https://tes.pucomex.serpro/portal/api/autenticar',\n",
    "         headers=headers,\n",
    "         pkcs12_filename='C:\\\\Users\\\\25052288840\\\\Downloads\\\\132656_CERTIFICADO_TESTES_INTEGRADOS.p12',\n",
    "         pkcs12_password='123456',\n",
    "         verify=False)\n"
   ]
  },
  {
   "cell_type": "code",
   "execution_count": 17,
   "metadata": {},
   "outputs": [
    {
     "name": "stdout",
     "output_type": "stream",
     "text": [
      "200\n",
      "{\"token\":\"pguwwSGJ6WgB0ObsfJGqQaLVK/FHyUuGQ0Pb104ElM+l10Mj9LvCObggqpEGtNGwB6yMGReORrI=\"}\n",
      "Date: Fri, 07 Feb 2020 19:11:24 GMT\n",
      "Server: Apache/2.4.6 (CentOS) OpenSSL/1.0.2k-fips\n",
      "Set-Token: eyJhbGciOiJSUzI1NiJ9.eyJleHRlbnNhbyI6IiIsInN1YiI6IjA3MDczMzExNzAzIiwidGlwbyI6IlBGIiwiaXAiOiIxMC41OC4xMjEuMTk3IiwiaXNzIjoiUFJJViIsImlkY2MiOjQ4Miwibm9tZSI6IkNFUlRJRklDQURPIFRFU1RFUyBJTlRFR1JBRE9TIiwiaXBPcmlnZW0iOiIxMC41OC4xMjEuMTk3IiwiZGVzY3JpY2FvIjoiQ0VSVElGSUNBRE8gVEVTVEVTIElOVEVHUkFET1MiLCJwZXJmaXMiOiJINHNJQUFBQUFBQUFBRVdPTVE2RE1BeEZMOFFKMktMRXFpSVZCem1tUWtVTUNCaFlTa1hZcWg2bVotbkZha0tnUTVUbnItX3YzN3pXcFh1RXJwX0hrRGRhTXhFWDJtSW1xTFJDQXIwaEpWUUlkWHdVVllJTElFZFVLSDZ6ZXgxNnM2bUtEYkJPWGdPLVFodHpyOVpZZ3YyRU8wOUlraTNLakRReTNHUnd5ZXYxXzlwWngwa0pQckJRZUtxcFR1bjhWc2RVVUlzcTM0RUVQaHFrQzl2N3NTYTViVFlOdVFGWnRKd05ZLWh6TXo3bk1LM2Z6ekxON19ZSHFDaXJzQ29CQUFBPSIsImNyZWRlbmNpYWwiOjYsImNwZiI6IjA3MDczMzExNzAzIiwiaWF0IjoxNTgxMTAyNjg0LCJjb250cm9sZSI6NywiaGFzaCI6IjRiZmQ0NGI3Mzk2OTM2NzVjZTAxZTEyYTI5NjhlYTdmIn0.jwEW0c9yrV-bwvvk4_dk6okvzJ_I3pEikEd6p-yJfdQLPGPRGKDXayNrxfh4qfakGuGp1twL7KTxQHsziTuPtX5qDRJtz6Z0sNQryWGoqpjCzjlrR12UxsgRikC_49dFtRbEZITr0_BCWXeVvUi1W4MXFW5y3sk8pUmxgvXD_NdrK8_f3t5YdMdrMeJ-sAOq7GiurJMVEtsRARh2O-C-8Kh6mYXXvzeWBJI9Ur2GiImujSy46kUkyJSR-4f4vAI55Swfusj-7NPhX5GeXIUSgQIAaqoNYx3Tl2QsPGOjpaRGCmdDaW8XIY9p5y0Wg-mfkRc-HpGBc2yJ3Fk-3sQmww\n",
      "X-CSRF-Token: pguwwSGJ6WgB0ObsfJGqQaLVK/FHyUuGQ0Pb104ElM+l10Mj9LvCObggqpEGtNGwB6yMGReORrI=\n",
      "X-CSRF-Expiration: 1581106284716\n",
      "Content-Type: application/json\n",
      "Content-Length: 88\n",
      "Keep-Alive: timeout=5, max=100\n",
      "Connection: Keep-Alive\n"
     ]
    }
   ],
   "source": [
    "print(r.status_code)\n",
    "print(r.text)\n",
    "for k, v in r.headers.items():\n",
    "    print('%s: %s' % (k, v))"
   ]
  },
  {
   "cell_type": "code",
   "execution_count": 18,
   "metadata": {},
   "outputs": [],
   "source": [
    "xcsrftoken = r.headers['X-CSRF-Token']\n",
    "authentication = r.headers['Set-Token']"
   ]
  },
  {
   "cell_type": "markdown",
   "metadata": {},
   "source": [
    "# Carregar arquivo para dict"
   ]
  },
  {
   "cell_type": "code",
   "execution_count": 19,
   "metadata": {},
   "outputs": [],
   "source": [
    "with open('../json/pesagem-veiculos-cargas.json') as infile:\n",
    "    json_pesagem = json.load(infile)"
   ]
  },
  {
   "cell_type": "markdown",
   "metadata": {},
   "source": [
    "# Postar arquivo de Evento - deve receber 201"
   ]
  },
  {
   "cell_type": "code",
   "execution_count": 20,
   "metadata": {},
   "outputs": [
    {
     "name": "stdout",
     "output_type": "stream",
     "text": [
      "{\"message\":\"Ocorreu um erro inesperado. Por favor, tente novamente. Se o problema persistir, acione a Central Serpro de Atendimento anexando todo o conteúdo do response.\",\"code\":\"PUCX-ER0001\",\"tag\":\"[RCNT-YHGKXSX7P6]\",\"date\":\"2020-02-07T16:11:27\",\"severity\":\"ERROR\",\"info\":{\"mnemonico\":\"RCNT\",\"sistema\":\"Recintos de Comércio Exterior\",\"ambiente\":\"TES\",\"url\":\"/recintos-ext/api/ext/pesagem-veiculos-cargas\"}}\n"
     ]
    }
   ],
   "source": [
    "headers={'X-CSRF-Token': xcsrftoken,\n",
    "         'authorization': authentication,\n",
    "         'Cnpj-Representante': '92772821010712'}\n",
    "\n",
    "r = post('https://tes-pucomex-rcnt-priv.estaleiro.serpro/recintos-ext/api/ext/pesagem-veiculos-cargas',\n",
    "         headers=headers,\n",
    "         pkcs12_filename='C:\\\\Users\\\\25052288840\\\\Downloads\\\\132656_CERTIFICADO_TESTES_INTEGRADOS.p12',\n",
    "         pkcs12_password='123456',\n",
    "         verify=False,\n",
    "         json=json_pesagem)\n",
    "print(r.text)"
   ]
  },
  {
   "cell_type": "code",
   "execution_count": 21,
   "metadata": {},
   "outputs": [
    {
     "name": "stdout",
     "output_type": "stream",
     "text": [
      "503\n",
      "{\"message\":\"Ocorreu um erro inesperado. Por favor, tente novamente. Se o problema persistir, acione a Central Serpro de Atendimento anexando todo o conteúdo do response.\",\"code\":\"PUCX-ER0001\",\"tag\":\"[RCNT-YHGKXSX7P6]\",\"date\":\"2020-02-07T16:11:27\",\"severity\":\"ERROR\",\"info\":{\"mnemonico\":\"RCNT\",\"sistema\":\"Recintos de Comércio Exterior\",\"ambiente\":\"TES\",\"url\":\"/recintos-ext/api/ext/pesagem-veiculos-cargas\"}}\n",
      "content-type: application/json;charset=UTF-8\n",
      "content-length: 409\n",
      "date: Fri, 07 Feb 2020 19:11:27 GMT\n",
      "strict-transport-security: max-age=15768000\n"
     ]
    }
   ],
   "source": [
    "print(r.status_code)\n",
    "print(r.text)\n",
    "for k, v in r.headers.items():\n",
    "    print('%s: %s' % (k, v))"
   ]
  },
  {
   "cell_type": "markdown",
   "metadata": {},
   "source": [
    "# Postar arquivo contendo campo não previsto - Erro no. ???"
   ]
  },
  {
   "cell_type": "code",
   "execution_count": 24,
   "metadata": {},
   "outputs": [
    {
     "name": "stdout",
     "output_type": "stream",
     "text": [
      "503\n",
      "{\"message\":\"Ocorreu um erro inesperado. Por favor, tente novamente. Se o problema persistir, acione a Central Serpro de Atendimento anexando todo o conteúdo do response.\",\"code\":\"PUCX-ER0001\",\"tag\":\"[RCNT-OSVBGLX7P6]\",\"date\":\"2020-02-07T16:15:11\",\"severity\":\"ERROR\",\"info\":{\"mnemonico\":\"RCNT\",\"sistema\":\"Recintos de Comércio Exterior\",\"ambiente\":\"TES\",\"url\":\"/recintos-ext/api/ext/pesagem-veiculos-cargas\"}}\n"
     ]
    }
   ],
   "source": [
    "json_pesagem2 = json_pesagem.copy()\n",
    "json_pesagem2['nonecxiste'] = 'BUUUU!'\n",
    "r = post('https://tes-pucomex-rcnt-priv.estaleiro.serpro/recintos-ext/api/ext/pesagem-veiculos-cargas',\n",
    "         headers=headers,\n",
    "         pkcs12_filename='C:\\\\Users\\\\25052288840\\\\Downloads\\\\132656_CERTIFICADO_TESTES_INTEGRADOS.p12',\n",
    "         pkcs12_password='123456',\n",
    "         verify=False,\n",
    "         json=json_pesagem2)\n",
    "print(r.status_code)\n",
    "print(r.text)"
   ]
  },
  {
   "cell_type": "markdown",
   "metadata": {},
   "source": [
    "# Postar arquivo faltando campo obrigatório - Erro no. ???"
   ]
  },
  {
   "cell_type": "code",
   "execution_count": 25,
   "metadata": {},
   "outputs": [
    {
     "name": "stdout",
     "output_type": "stream",
     "text": [
      "503\n",
      "{\"message\":\"Ocorreu um erro inesperado. Por favor, tente novamente. Se o problema persistir, acione a Central Serpro de Atendimento anexando todo o conteúdo do response.\",\"code\":\"PUCX-ER0001\",\"tag\":\"[RCNT-KESZUAX7P6]\",\"date\":\"2020-02-07T16:17:17\",\"severity\":\"ERROR\",\"info\":{\"mnemonico\":\"RCNT\",\"sistema\":\"Recintos de Comércio Exterior\",\"ambiente\":\"TES\",\"url\":\"/recintos-ext/api/ext/pesagem-veiculos-cargas\"}}\n"
     ]
    }
   ],
   "source": [
    "json_pesagem2 = json_pesagem.copy()\n",
    "json_pesagem2.pop('idEvento')\n",
    "r = post('https://tes-pucomex-rcnt-priv.estaleiro.serpro/recintos-ext/api/ext/pesagem-veiculos-cargas',\n",
    "         headers=headers,\n",
    "         pkcs12_filename='C:\\\\Users\\\\25052288840\\\\Downloads\\\\132656_CERTIFICADO_TESTES_INTEGRADOS.p12',\n",
    "         pkcs12_password='123456',\n",
    "         verify=False,\n",
    "         json=json_pesagem2)\n",
    "print(r.status_code)\n",
    "print(r.text)"
   ]
  },
  {
   "cell_type": "markdown",
   "metadata": {},
   "source": [
    "# Postar arquivo contendo campo com valor inválido - Erro no. ???"
   ]
  },
  {
   "cell_type": "code",
   "execution_count": null,
   "metadata": {},
   "outputs": [],
   "source": [
    "json_pesagem2 = json_pesagem.copy()\n",
    "json_pesagem2['idEvento'] = 'string'\n",
    "r = post('https://tes-pucomex-rcnt-priv.estaleiro.serpro/recintos-ext/api/ext/pesagem-veiculos-cargas',\n",
    "         headers=headers,\n",
    "         pkcs12_filename='C:\\\\Users\\\\25052288840\\\\Downloads\\\\132656_CERTIFICADO_TESTES_INTEGRADOS.p12',\n",
    "         pkcs12_password='123456',\n",
    "         verify=False,\n",
    "         json=json_pesagem2)\n",
    "print(r.status_code)\n",
    "print(r.text)"
   ]
  },
  {
   "cell_type": "markdown",
   "metadata": {},
   "source": [
    "# Postar arquivo contendo campo obrigatório nulo - Erro no. ???"
   ]
  },
  {
   "cell_type": "code",
   "execution_count": null,
   "metadata": {},
   "outputs": [],
   "source": [
    "json_pesagem2 = json_pesagem.copy()\n",
    "json_pesagem2['idEvento'] = None\n",
    "r = post('https://tes-pucomex-rcnt-priv.estaleiro.serpro/recintos-ext/api/ext/pesagem-veiculos-cargas',\n",
    "         headers=headers,\n",
    "         pkcs12_filename='C:\\\\Users\\\\25052288840\\\\Downloads\\\\132656_CERTIFICADO_TESTES_INTEGRADOS.p12',\n",
    "         pkcs12_password='123456',\n",
    "         verify=False,\n",
    "         json=json_pesagem2)\n",
    "print(r.status_code)\n",
    "print(r.text)"
   ]
  },
  {
   "cell_type": "markdown",
   "metadata": {},
   "source": [
    "# Consulta"
   ]
  },
  {
   "cell_type": "code",
   "execution_count": 17,
   "metadata": {},
   "outputs": [],
   "source": [
    "from requests_pkcs12 import get\n",
    "\n",
    "headers={'Authorization': '3338B22239B8B7934612C24B0DD8854C',\n",
    "         'Content-Type': 'application/json',\n",
    "         'Encryption-Key': '0123456789abcdef',\n",
    "          'Referer': 'https://tes-pucomex-rcnt-priv.estaleiro.serpro/recintos-simulador/',\n",
    "         'System-Code': '11655'}\n",
    "\n",
    "query = {'tipoEvento': 1,\n",
    "         'tipoOperacao': 'I',\n",
    "         'codigoRecinto': '1',\n",
    "         'dtHrTransmissaoInicio': '2020-01-10T13:36:51.809Z',\n",
    "         'dtHrTransmissaoFim': '2020-01-22T13:36:51.809Z'\n",
    "        }\n",
    "#         'cnpjTransmissor': '',\n",
    "#         'dtHrOcorrenciaInicio': '',\n",
    "#         'dtHrOcorrenciaFim': '',\n",
    "#         'protocoloRecepcao': ''\n",
    "#        }\n",
    "r = get('https://tes-pucomex-rcnt-rfb.estaleiro.serpro/recintos-consultas-intra/api/int/eventos-aduaneiros',\n",
    "        params=query,\n",
    "        headers=headers,\n",
    "        pkcs12_filename='C:\\\\Users\\\\25052288840\\\\Downloads\\\\132656_CERTIFICADO_TESTES_INTEGRADOS.p12',\n",
    "        pkcs12_password='123456',\n",
    "        verify=False)"
   ]
  },
  {
   "cell_type": "code",
   "execution_count": 18,
   "metadata": {},
   "outputs": [
    {
     "name": "stdout",
     "output_type": "stream",
     "text": [
      "201\n",
      "{\"dtHrSolicitacao\":\"2020-01-29T09:20:10.397Z\",\"protocoloSolicitacao\":\"1b3aac67-afec-411b-9f1b-e6ee5115ad2a\"}\n",
      "access-control-allow-origin: *\n",
      "access-control-allow-headers: Origin, X-Requested-With, Content-Type, Accept, X-CSRF-Token, Authorization\n",
      "content-type: application/json\n",
      "content-length: 108\n",
      "access-control-allow-methods: GET, POST, PUT, DELETE, OPTIONS\n",
      "access-control-max-age: -1\n",
      "date: Wed, 29 Jan 2020 12:20:10 GMT\n",
      "strict-transport-security: max-age=15768000\n"
     ]
    }
   ],
   "source": [
    "print(r.status_code)\n",
    "print(r.text)\n",
    "for k, v in r.headers.items():\n",
    "    print('%s: %s' % (k, v))"
   ]
  },
  {
   "cell_type": "code",
   "execution_count": 19,
   "metadata": {},
   "outputs": [],
   "source": [
    "protocolo = r.json()['protocoloSolicitacao']\n",
    "url = 'https://tes-pucomex-rcnt-rfb.estaleiro.serpro/recintos-consultas-intra/api/int/eventos-aduaneiros/resultado/%s' % protocolo\n",
    "r = get(url,\n",
    "        headers=headers,\n",
    "        pkcs12_filename='C:\\\\Users\\\\25052288840\\\\Downloads\\\\132656_CERTIFICADO_TESTES_INTEGRADOS.p12',\n",
    "        pkcs12_password='123456',\n",
    "        verify=False)\n"
   ]
  },
  {
   "cell_type": "code",
   "execution_count": 20,
   "metadata": {},
   "outputs": [
    {
     "name": "stdout",
     "output_type": "stream",
     "text": [
      "200\n",
      "{\"protocoloConsulta\":\"1b3aac67-afec-411b-9f1b-e6ee5115ad2a\",\"resumoConsulta\":{\"qtdPartes\":2,\"qtdEventos\":90500},\"partes\":[{\"parte\":1,\"qtdEventos\":1000,\"geradaComSucesso\":true,\"urlDownload\":\"https://estaleiro.serpro.gov.br/recintos/asd23cw35sxw3453f4v63d354.zip\"},{\"parte\":2,\"geradaComSucesso\":false,\"obsErro\":\"falha ao gerar arquivo\"}]}\n",
      "access-control-allow-origin: *\n",
      "access-control-allow-headers: Origin, X-Requested-With, Content-Type, Accept, X-CSRF-Token, Authorization\n",
      "content-type: application/json\n",
      "content-length: 336\n",
      "access-control-allow-methods: GET, POST, PUT, DELETE, OPTIONS\n",
      "access-control-max-age: -1\n",
      "date: Wed, 29 Jan 2020 12:20:12 GMT\n",
      "strict-transport-security: max-age=15768000\n"
     ]
    }
   ],
   "source": [
    "print(r.status_code)\n",
    "print(r.text)\n",
    "for k, v in r.headers.items():\n",
    "    print('%s: %s' % (k, v))"
   ]
  },
  {
   "cell_type": "code",
   "execution_count": 21,
   "metadata": {},
   "outputs": [
    {
     "name": "stdout",
     "output_type": "stream",
     "text": [
      "https://estaleiro.serpro.gov.br/recintos/asd23cw35sxw3453f4v63d354.zip\n"
     ]
    }
   ],
   "source": [
    "urlDownload = r.json()['partes'][0]['urlDownload']\n",
    "print(urlDownload)\n"
   ]
  },
  {
   "cell_type": "code",
   "execution_count": 22,
   "metadata": {},
   "outputs": [
    {
     "data": {
      "text/plain": [
       "'<html>\\r\\n<head><title>302 Found</title></head>\\r\\n<body bgcolor=\"white\">\\r\\n<center><h1>302 Found</h1></center>\\r\\n<hr><center>nginx/1.12.2</center>\\r\\n</body>\\r\\n</html>\\r\\n'"
      ]
     },
     "execution_count": 22,
     "metadata": {},
     "output_type": "execute_result"
    }
   ],
   "source": [
    "r = get(urlDownload,\n",
    "        headers=headers,\n",
    "        pkcs12_filename='C:\\\\Users\\\\25052288840\\\\Downloads\\\\132656_CERTIFICADO_TESTES_INTEGRADOS.p12',\n",
    "        pkcs12_password='123456',\n",
    "        verify=False,\n",
    "        allow_redirects=False)\n",
    "r.text"
   ]
  },
  {
   "cell_type": "code",
   "execution_count": null,
   "metadata": {},
   "outputs": [],
   "source": []
  }
 ],
 "metadata": {
  "kernelspec": {
   "display_name": "virasana",
   "language": "python",
   "name": "virasana"
  },
  "language_info": {
   "codemirror_mode": {
    "name": "ipython",
    "version": 3
   },
   "file_extension": ".py",
   "mimetype": "text/x-python",
   "name": "python",
   "nbconvert_exporter": "python",
   "pygments_lexer": "ipython3",
   "version": "3.7.4"
  }
 },
 "nbformat": 4,
 "nbformat_minor": 4
}
